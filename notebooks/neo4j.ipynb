{
 "cells": [
  {
   "cell_type": "code",
   "execution_count": 5,
   "metadata": {},
   "outputs": [],
   "source": [
    "from pymongo.mongo_client import MongoClient\n",
    "from pymongo.server_api import ServerApi\n",
    "from neo4j import GraphDatabase"
   ]
  },
  {
   "cell_type": "code",
   "execution_count": 6,
   "metadata": {},
   "outputs": [],
   "source": [
    "import os\n",
    "from dotenv import load_dotenv\n",
    "\n",
    "load_dotenv()\n",
    "\n",
    "USERNAME = os.getenv('MONGO_USERNAME')\n",
    "PASSWORD = os.getenv('MONGO_PASSWORD')\n",
    "URL = os.getenv('MONGO_URL')\n",
    "\n",
    "NEO4J_PASSWORD = os.getenv('NEO4J_PASSWORD')\n",
    "URI = os.getenv('NEO4J_URI')"
   ]
  },
  {
   "cell_type": "code",
   "execution_count": 7,
   "metadata": {},
   "outputs": [],
   "source": [
    "username = USERNAME\n",
    "password = PASSWORD\n",
    "cluster_url = URL\n",
    "\n",
    "uri = f\"mongodb+srv://{username}:{password}@{cluster_url}/?retryWrites=true&w=majority\"\n",
    "\n",
    "# Create a new client and connect to the server\n",
    "client = MongoClient(uri, server_api=ServerApi('1'))\n",
    "\n",
    "mongo_db = client[\"basketball_database\"]\n",
    "\n",
    "# Retrieve collections\n",
    "players = mongo_db[\"players\"].find()\n",
    "teams = mongo_db[\"teams\"].find()\n",
    "relationships = mongo_db[\"relationships\"].find()"
   ]
  },
  {
   "cell_type": "code",
   "execution_count": 8,
   "metadata": {},
   "outputs": [],
   "source": [
    "# Neo4j Aura connection details\n",
    "uri = URI\n",
    "username = \"neo4j\"\n",
    "password = NEO4J_PASSWORD\n",
    "AUTH = (username, password)\n",
    "\n",
    "driver = GraphDatabase.driver(uri, auth=(username, password))\n",
    "\n",
    "# Create a session\n",
    "session = driver.session()"
   ]
  },
  {
   "cell_type": "code",
   "execution_count": 61,
   "metadata": {},
   "outputs": [
    {
     "name": "stdout",
     "output_type": "stream",
     "text": [
      "Data has been successfully inserted into Neo4j!\n"
     ]
    }
   ],
   "source": [
    "for player in players:\n",
    "    session.run(\n",
    "        \"\"\"\n",
    "        MERGE (p:Player {name: $name, age: $age, number: $number, height: $height, weight: $weight})\n",
    "        \"\"\",\n",
    "        name=player[\"name\"],\n",
    "        age=player[\"age\"],\n",
    "        number=player[\"number\"],\n",
    "        height=player[\"height\"],\n",
    "        weight=player[\"weight\"]\n",
    "    )\n",
    "\n",
    "# Create Team nodes\n",
    "for team in teams:\n",
    "    session.run(\n",
    "        \"\"\"\n",
    "        MERGE (t:Team {name: $name})\n",
    "        \"\"\",\n",
    "        name=team[\"name\"]\n",
    "    )\n",
    "\n",
    "# Create Relationships\n",
    "for rel in relationships:\n",
    "    if rel[\"type\"] == \"PLAYS_FOR\":\n",
    "        session.run(\n",
    "            \"\"\"\n",
    "            MATCH (p:Player {name: $player_name}), (t:Team {name: $team_name})\n",
    "            MERGE (p)-[:PLAYS_FOR {salary: $salary}]->(t)\n",
    "            \"\"\",\n",
    "            player_name=rel[\"player\"],\n",
    "            team_name=rel[\"team\"],\n",
    "            salary=rel[\"salary\"]\n",
    "        )\n",
    "    elif rel[\"type\"] == \"TEAMMATES\":\n",
    "        session.run(\n",
    "            \"\"\"\n",
    "            MATCH (p1:Player {name: $player1_name}), (p2:Player {name: $player2_name})\n",
    "            MERGE (p1)-[:TEAMMATES]->(p2)\n",
    "            MERGE (p2)-[:TEAMMATES]->(p1)\n",
    "            \"\"\",\n",
    "            player1_name=rel[\"player1\"],\n",
    "            player2_name=rel[\"player2\"]\n",
    "        )\n",
    "    elif rel[\"type\"] == \"COACHES\":\n",
    "        session.run(\n",
    "            \"\"\"\n",
    "            MATCH (p:Player {name: $player_name}), (c:Coach {name: $coach_name})\n",
    "            MERGE (c)-[:COACHES]->(p)\n",
    "            \"\"\",\n",
    "            player_name=rel[\"player\"],\n",
    "            coach_name=rel[\"coach\"]\n",
    "        )\n",
    "    elif rel[\"type\"] == \"PLAYED_AGAINST\":\n",
    "        session.run(\n",
    "            \"\"\"\n",
    "            MATCH (p:Player {name: $player_name}), (t:Team {name: $team})\n",
    "            MERGE (p)-[:PLAYED_AGAINST {team: $team, minutes: $minutes, points: $points, assists: $assists, rebounds: $rebounds, turnovers: $turnovers}]->(t)\n",
    "            \"\"\",\n",
    "            player_name=rel[\"player\"],\n",
    "            team=rel[\"team\"],\n",
    "            minutes=rel[\"minutes\"],\n",
    "            points=rel[\"points\"],\n",
    "            assists=rel[\"assists\"],\n",
    "            rebounds=rel[\"rebounds\"],\n",
    "            turnovers=rel[\"turnovers\"]\n",
    "        )\n",
    "\n",
    "# Close the Neo4j session and driver\n",
    "session.close()\n",
    "driver.close()\n",
    "\n",
    "print(\"Data has been successfully inserted into Neo4j!\")"
   ]
  },
  {
   "cell_type": "code",
   "execution_count": null,
   "metadata": {},
   "outputs": [],
   "source": []
  }
 ],
 "metadata": {
  "kernelspec": {
   "display_name": "DSP",
   "language": "python",
   "name": "python3"
  },
  "language_info": {
   "codemirror_mode": {
    "name": "ipython",
    "version": 3
   },
   "file_extension": ".py",
   "mimetype": "text/x-python",
   "name": "python",
   "nbconvert_exporter": "python",
   "pygments_lexer": "ipython3",
   "version": "3.9.18"
  }
 },
 "nbformat": 4,
 "nbformat_minor": 2
}
