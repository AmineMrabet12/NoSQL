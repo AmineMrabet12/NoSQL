{
 "cells": [
  {
   "cell_type": "code",
   "execution_count": 4,
   "metadata": {},
   "outputs": [],
   "source": [
    "from pymongo.mongo_client import MongoClient\n",
    "from pymongo.server_api import ServerApi"
   ]
  },
  {
   "cell_type": "code",
   "execution_count": 5,
   "metadata": {},
   "outputs": [
    {
     "data": {
      "text/plain": [
       "True"
      ]
     },
     "execution_count": 5,
     "metadata": {},
     "output_type": "execute_result"
    }
   ],
   "source": [
    "import os\n",
    "from dotenv import load_dotenv\n",
    "\n",
    "load_dotenv()"
   ]
  },
  {
   "cell_type": "code",
   "execution_count": 6,
   "metadata": {},
   "outputs": [],
   "source": [
    "USERNAME = os.getenv('MONGO_USERNAME')\n",
    "PASSWORD = os.getenv('MONGO_PASSWORD')\n",
    "URL = os.getenv('MONGO_URL')"
   ]
  },
  {
   "cell_type": "code",
   "execution_count": 7,
   "metadata": {},
   "outputs": [],
   "source": [
    "# Connect to MongoDB\n",
    "username = USERNAME\n",
    "password = PASSWORD\n",
    "cluster_url = URL\n",
    "\n",
    "uri = f\"mongodb+srv://{username}:{password}@{cluster_url}/?retryWrites=true&w=majority\"\n",
    "\n",
    "# Create a new client and connect to the server\n",
    "client = MongoClient(uri, server_api=ServerApi('1'))\n",
    "\n",
    "db = client[\"basketball_database\"]\n",
    "\n",
    "# Collections\n",
    "players = db[\"players\"]\n",
    "coaches = db[\"coaches\"]\n",
    "teams = db[\"teams\"]\n",
    "relationships = db[\"relationships\"]"
   ]
  },
  {
   "cell_type": "code",
   "execution_count": 39,
   "metadata": {},
   "outputs": [],
   "source": [
    "\n",
    "# Players data\n",
    "players_data = [\n",
    "    {\"_id\": \"lebron\", \"name\": \"LeBron James\", \"age\": 38, \"number\": 23, \"height\": 6.9, \"weight\": 250},\n",
    "    {\"_id\": \"russell\", \"name\": \"Russell Westbrook\", \"age\": 34, \"number\": 0, \"height\": 6.3, \"weight\": 200},\n",
    "    {\"_id\": \"anthony\", \"name\": \"Anthony Davis\", \"age\": 30, \"number\": 3, \"height\": 6.10, \"weight\": 253},\n",
    "    {\"_id\": \"luka\", \"name\": \"Luka Dončić\", \"age\": 24, \"number\": 77, \"height\": 6.7, \"weight\": 230},\n",
    "    {\"_id\": \"kristaps\", \"name\": \"Kristaps Porzingis\", \"age\": 28, \"number\": 6, \"height\": 7.3, \"weight\": 240},\n",
    "    {\"_id\": \"kevin\", \"name\": \"Kevin Durant\", \"age\": 35, \"number\": 7, \"height\": 6.10, \"weight\": 240},\n",
    "    {\"_id\": \"james\", \"name\": \"James Harden\", \"age\": 34, \"number\": 13, \"height\": 6.5, \"weight\": 220},\n",
    "    {\"_id\": \"giannis\", \"name\": \"Giannis Antetokounmpo\", \"age\": 29, \"number\": 34, \"height\": 7.0, \"weight\": 242},\n",
    "    {\"_id\": \"khris\", \"name\": \"Khris Middleton\", \"age\": 32, \"number\": 22, \"height\": 6.7, \"weight\": 222},\n",
    "    {\"_id\": \"joel\", \"name\": \"Joel Embiid\", \"age\": 29, \"number\": 21, \"height\": 7.0, \"weight\": 280},\n",
    "    {\"_id\": \"tobias\", \"name\": \"Tobias Harris\", \"age\": 31, \"number\": 12, \"height\": 6.9, \"weight\": 226},\n",
    "    {\"_id\": \"ja\", \"name\": \"Ja Morant\", \"age\": 24, \"number\": 12, \"height\": 6.3, \"weight\": 174},\n",
    "    {\"_id\": \"frank\", \"name\": \"Frank Vogel\", \"age\": 50, \"number\": 13, \"height\": 6.3, \"weight\": 174},\n",
    "    {\"_id\": \"taylor\", \"name\": \"Taylor Jenkins\", \"age\": 39, \"number\": 14, \"height\": 6.3, \"weight\": 174},\n",
    "    {\"_id\": \"jason\", \"name\": \"Jason Kidd\", \"age\": 51, \"number\": 143, \"height\": 6.3, \"weight\": 174},\n",
    "    {\"_id\": \"steve\", \"name\": \"Steve Nash\", \"age\": 49, \"number\": 112, \"height\": 6.3, \"weight\": 174},\n",
    "    {\"_id\": \"mike\", \"name\": \"Mike Budenholzer\", \"age\": 54, \"number\": 102, \"height\": 6.3, \"weight\": 174},\n",
    "    {\"_id\": \"doc\", \"name\": \"Doc Rivers\", \"age\": 62, \"number\": 12, \"height\": 6.3, \"weight\": 174}\n",
    "]\n",
    "\n",
    "# Coaches data\n",
    "coaches_data = [\n",
    "    {\"name\": \"Frank Vogel\"},\n",
    "    {\"name\": \"Taylor Jenkins\"},\n",
    "    {\"name\": \"Jason Kidd\"},\n",
    "    {\"name\": \"Steve Nash\"},\n",
    "    {\"name\": \"Mike Budenholzer\"},\n",
    "    {\"name\": \"Doc Rivers\"}\n",
    "]\n",
    "\n",
    "# Teams data\n",
    "teams_data = [\n",
    "    {\"name\": \"Los Angeles Lakers\"},\n",
    "    {\"name\": \"Memphis Grizzlies\"},\n",
    "    {\"name\": \"Dallas Mavericks\"},\n",
    "    {\"name\": \"Brooklyn Nets\"},\n",
    "    {\"name\": \"Milwaukee Bucks\"},\n",
    "    {\"name\": \"Philadelphia 76ers\"}\n",
    "]\n",
    "\n",
    "# Relationships data\n",
    "relationships_data = [\n",
    "    # TEAMMATES\n",
    "    {\"type\": \"TEAMMATES\", \"player1\": \"LeBron James\", \"player2\": \"Russell Westbrook\"},\n",
    "    {\"type\": \"TEAMMATES\", \"player1\": \"LeBron James\", \"player2\": \"Anthony Davis\"},\n",
    "    {\"type\": \"TEAMMATES\", \"player1\": \"Luka Doncic\", \"player2\": \"Kristaps Porzingis\"},\n",
    "    {\"type\": \"TEAMMATES\", \"player1\": \"Kevin Durant\", \"player2\": \"James Harden\"},\n",
    "    {\"type\": \"TEAMMATES\", \"player1\": \"Giannis Antetokounmpo\", \"player2\": \"Khris Middleton\"},\n",
    "    {\"type\": \"TEAMMATES\", \"player1\": \"Joel Embiid\", \"player2\": \"Tobias Harris\"},\n",
    "\n",
    "    # COACHES\n",
    "    {\"type\": \"COACHES\", \"coach\": \"frank\", \"player\": \"lebron\"},\n",
    "    {\"type\": \"COACHES\", \"coach\": \"frank\", \"player\": \"anthony\"},\n",
    "    {\"type\": \"COACHES\", \"coach\": \"frank\", \"player\": \"russell\"},\n",
    "    {\"type\": \"COACHES\", \"coach\": \"taylor\", \"player\": \"ja\"},\n",
    "    {\"type\": \"COACHES\", \"coach\": \"jason\", \"player\": \"luka\"},\n",
    "    {\"type\": \"COACHES\", \"coach\": \"jason\", \"player\": \"kristaps\"},\n",
    "    {\"type\": \"COACHES\", \"coach\": \"steve\", \"player\": \"kevin\"},\n",
    "    {\"type\": \"COACHES\", \"coach\": \"steve\", \"player\": \"james\"},\n",
    "    {\"type\": \"COACHES\", \"coach\": \"mike\", \"player\": \"giannis\"},\n",
    "    {\"type\": \"COACHES\", \"coach\": \"mike\", \"player\": \"khris\"},\n",
    "    {\"type\": \"COACHES\", \"coach\": \"doc\", \"player\": \"tobias\"},\n",
    "    {\"type\": \"COACHES\", \"coach\": \"doc\", \"player\": \"joel\"},\n",
    "\n",
    "    # PLAYS_FOR\n",
    "    {\"type\": \"PLAYS_FOR\", \"player\": \"lebron\", \"team\": \"lakers\", \"salary\": 40000000},\n",
    "    {\"type\": \"PLAYS_FOR\", \"player\": \"russell\", \"team\": \"lakers\", \"salary\": 33000000},\n",
    "    {\"type\": \"PLAYS_FOR\", \"player\": \"anthony\", \"team\": \"lakers\", \"salary\": 38000000},\n",
    "    {\"type\": \"PLAYS_FOR\", \"player\": \"ja\", \"team\": \"memphis\", \"salary\": 8000000},\n",
    "    {\"type\": \"PLAYS_FOR\", \"player\": \"luka\", \"team\": \"mavericks\", \"salary\": 50000000},\n",
    "    {\"type\": \"PLAYS_FOR\", \"player\": \"kristaps\", \"team\": \"mavericks\", \"salary\": 26000000},\n",
    "    {\"type\": \"PLAYS_FOR\", \"player\": \"kevin\", \"team\": \"nets\", \"salary\": 45000000},\n",
    "    {\"type\": \"PLAYS_FOR\", \"player\": \"james\", \"team\": \"nets\", \"salary\": 4200000},\n",
    "    {\"type\": \"PLAYS_FOR\", \"player\": \"giannis\", \"team\": \"bucks\", \"salary\": 47000000},\n",
    "    {\"type\": \"PLAYS_FOR\", \"player\": \"khris\", \"team\": \"bucks\", \"salary\": 43000000},\n",
    "    {\"type\": \"PLAYS_FOR\", \"player\": \"joel\", \"team\": \"sixers\", \"salary\": 4000000},\n",
    "    {\"type\": \"PLAYS_FOR\", \"player\": \"tobias\", \"team\": \"sixers\", \"salary\": 4000000},\n",
    "\n",
    "    # COACHES_FOR\n",
    "    {\"type\": \"COACHES_FOR\", \"coach\": \"frank\", \"team\": \"lakers\"},\n",
    "    {\"type\": \"COACHES_FOR\", \"coach\": \"taylor\", \"team\": \"memphis\"},\n",
    "    {\"type\": \"COACHES_FOR\", \"coach\": \"jason\", \"team\": \"mavericks\"},\n",
    "    {\"type\": \"COACHES_FOR\", \"coach\": \"steve\", \"team\": \"nets\"},\n",
    "    {\"type\": \"COACHES_FOR\", \"coach\": \"mike\", \"team\": \"bucks\"},\n",
    "    {\"type\": \"COACHES_FOR\", \"coach\": \"doc\", \"team\": \"sixers\"},\n",
    "\n",
    "    # PLAY_AGAINST\n",
    "    {\"type\": \"PLAYED_AGAINST\", \"player\": \"lebron\", \"team\": \"memphis\", \"minutes\": 38, \"points\": 32, \"assists\": 6, \"rebounds\": 6, \"turnovers\": 2},\n",
    "    {\"type\": \"PLAYED_AGAINST\", \"player\": \"russell\", \"team\": \"memphis\", \"minutes\": 29, \"points\": 16, \"assists\": 12, \"rebounds\": 11, \"turnovers\": 16},\n",
    "    {\"type\": \"PLAYED_AGAINST\", \"player\": \"anthony\", \"team\": \"memphis\", \"minutes\": 36, \"points\": 27, \"assists\": 2, \"rebounds\": 8, \"turnovers\": 1},\n",
    "    {\"type\": \"PLAYED_AGAINST\", \"player\": \"ja\", \"team\": \"lakers\", \"minutes\": 43, \"points\": 42, \"assists\": 7, \"rebounds\": 8, \"turnovers\": 4},\n",
    "    {\"type\": \"PLAYED_AGAINST\", \"player\": \"lebron\", \"team\": \"memphis\", \"minutes\": 23, \"points\": 25, \"assists\": 12, \"rebounds\": 3, \"turnovers\": 0},\n",
    "    {\"type\": \"PLAYED_AGAINST\", \"player\": \"russell\", \"team\": \"memphis\", \"minutes\": 20, \"points\": 11, \"assists\": 10, \"rebounds\": 3, \"turnovers\": 8},\n",
    "    {\"type\": \"PLAYED_AGAINST\", \"player\": \"anthony\", \"team\": \"memphis\", \"minutes\": 30, \"points\": 22, \"assists\": 2, \"rebounds\": 8, \"turnovers\": 1},\n",
    "    {\"type\": \"PLAYED_AGAINST\", \"player\": \"ja\", \"team\": \"lakers\", \"minutes\": 35, \"points\": 35, \"assists\": 3, \"rebounds\": 4, \"turnovers\": 2},\n",
    "    {\"type\": \"PLAYED_AGAINST\", \"player\": \"lebron\", \"team\": \"nets\", \"minutes\": 32, \"points\": 18, \"assists\": 3, \"rebounds\": 6, \"turnovers\": 1},\n",
    "    {\"type\": \"PLAYED_AGAINST\", \"player\": \"russell\", \"team\": \"nets\", \"minutes\": 26, \"points\": 26, \"assists\": 11, \"rebounds\": 13, \"turnovers\": 6},\n",
    "    {\"type\": \"PLAYED_AGAINST\", \"player\": \"anthony\", \"team\": \"nets\", \"minutes\": 30, \"points\": 26, \"assists\": 7, \"rebounds\": 18, \"turnovers\": 3},\n",
    "    {\"type\": \"PLAYED_AGAINST\", \"player\": \"kevin\", \"team\": \"lakers\", \"minutes\": 43, \"points\": 45, \"assists\": 5, \"rebounds\": 8, \"turnovers\": 2},\n",
    "    {\"type\": \"PLAYED_AGAINST\", \"player\": \"james\", \"team\": \"lakers\", \"minutes\": 46, \"points\": 35, \"assists\": 13, \"rebounds\": 4, \"turnovers\": 7},\n",
    "    {\"type\": \"PLAYED_AGAINST\", \"player\": \"kevin\", \"team\": \"memphis\", \"minutes\": 34, \"points\": 37, \"assists\": 2, \"rebounds\": 12, \"turnovers\": 1},\n",
    "    {\"type\": \"PLAYED_AGAINST\", \"player\": \"james\", \"team\": \"memphis\", \"minutes\": 46, \"points\": 35, \"assists\": 13, \"rebounds\": 4, \"turnovers\": 7},\n",
    "    {\"type\": \"PLAYED_AGAINST\", \"player\": \"ja\", \"team\": \"nets\", \"minutes\": 26, \"points\": 32, \"assists\": 13, \"rebounds\": 6, \"turnovers\": 2},\n",
    "    {\"type\": \"PLAYED_AGAINST\", \"player\": \"luka\", \"team\": \"bucks\", \"minutes\": 44, \"points\": 23, \"assists\": 7, \"rebounds\": 13, \"turnovers\": 8},\n",
    "    {\"type\": \"PLAYED_AGAINST\", \"player\": \"kristaps\", \"team\": \"bucks\", \"minutes\": 24, \"points\": 16, \"assists\": 2, \"rebounds\": 12, \"turnovers\": 0},\n",
    "    {\"type\": \"PLAYED_AGAINST\", \"player\": \"giannis\", \"team\": \"mavericks\", \"minutes\": 33, \"points\": 26, \"assists\": 16, \"rebounds\": 18, \"turnovers\": 5},\n",
    "    {\"type\": \"PLAYED_AGAINST\", \"player\": \"khris\", \"team\": \"mavericks\", \"minutes\": 46, \"points\": 35, \"assists\": 3, \"rebounds\": 4, \"turnovers\": 3},\n",
    "    {\"type\": \"PLAYED_AGAINST\", \"player\": \"luka\", \"team\": \"sixers\", \"minutes\": 33, \"points\": 28, \"assists\": 6, \"rebounds\": 3, \"turnovers\": 3},\n",
    "    {\"type\": \"PLAYED_AGAINST\", \"player\": \"kristaps\", \"team\": \"sixers\", \"minutes\": 24, \"points\": 18, \"assists\": 4, \"rebounds\": 11, \"turnovers\": 1},\n",
    "    {\"type\": \"PLAYED_AGAINST\", \"player\": \"joel\", \"team\": \"mavericks\", \"minutes\": 25, \"points\": 29, \"assists\": 7, \"rebounds\": 22, \"turnovers\": 2},\n",
    "    {\"type\": \"PLAYED_AGAINST\", \"player\": \"tobias\", \"team\": \"mavericks\", \"minutes\": 34, \"points\": 18, \"assists\": 13, \"rebounds\": 4, \"turnovers\": 0},\n",
    "    {\"type\": \"PLAYED_AGAINST\", \"player\": \"giannis\", \"team\": \"sixers\", \"minutes\": 45, \"points\": 36, \"assists\": 5, \"rebounds\": 12, \"turnovers\": 3},\n",
    "    {\"type\": \"PLAYED_AGAINST\", \"player\": \"khris\", \"team\": \"sixers\", \"minutes\": 35, \"points\": 22, \"assists\": 5, \"rebounds\": 6, \"turnovers\": 0},\n",
    "    {\"type\": \"PLAYED_AGAINST\", \"player\": \"joel\", \"team\": \"bucks\", \"minutes\": 33, \"points\": 23, \"assists\": 3, \"rebounds\": 10, \"turnovers\": 3},\n",
    "    {\"type\": \"PLAYED_AGAINST\", \"player\": \"tobias\", \"team\": \"bucks\", \"minutes\": 38, \"points\": 23, \"assists\": 4, \"rebounds\": 5, \"turnovers\": 1},\n",
    "    {\"type\": \"PLAYED_AGAINST\", \"player\": \"kevin\", \"team\": \"mavericks\", \"minutes\": 29, \"points\": 28, \"assists\": 6, \"rebounds\": 8, \"turnovers\": 0},\n",
    "    {\"type\": \"PLAYED_AGAINST\", \"player\": \"james\", \"team\": \"mavericks\", \"minutes\": 35, \"points\": 17, \"assists\": 10, \"rebounds\": 8, \"turnovers\": 5},\n",
    "    {\"type\": \"PLAYED_AGAINST\", \"player\": \"luka\", \"team\": \"nets\", \"minutes\": 37, \"points\": 35, \"assists\": 6, \"rebounds\": 11, \"turnovers\": 4},\n",
    "    {\"type\": \"PLAYED_AGAINST\", \"player\": \"kristaps\", \"team\": \"nets\", \"minutes\": 34, \"points\": 27, \"assists\": 4, \"rebounds\": 8, \"turnovers\": 0},\n",
    "    {\"type\": \"PLAYED_AGAINST\", \"player\": \"lebron\", \"team\": \"sixers\", \"minutes\": 32, \"points\": 27, \"assists\": 12, \"rebounds\": 10, \"turnovers\": 4},\n",
    "    {\"type\": \"PLAYED_AGAINST\", \"player\": \"russell\", \"team\": \"sixers\", \"minutes\": 25, \"points\": 19, \"assists\": 9, \"rebounds\": 14, \"turnovers\": 5},\n",
    "    {\"type\": \"PLAYED_AGAINST\", \"player\": \"anthony\", \"team\": \"sixers\", \"minutes\": 32, \"points\": 22, \"assists\": 7, \"rebounds\": 12, \"turnovers\": 2},\n",
    "    {\"type\": \"PLAYED_AGAINST\", \"player\": \"joel\", \"team\": \"lakers\", \"minutes\": 36, \"points\": 36, \"assists\": 7, \"rebounds\": 12, \"turnovers\": 0},\n",
    "    {\"type\": \"PLAYED_AGAINST\", \"player\": \"tobias\", \"team\": \"lakers\", \"minutes\": 32, \"points\": 22, \"assists\": 1, \"rebounds\": 7, \"turnovers\": 0}\n",
    "\n",
    "]"
   ]
  },
  {
   "cell_type": "code",
   "execution_count": null,
   "metadata": {},
   "outputs": [
    {
     "name": "stdout",
     "output_type": "stream",
     "text": [
      "Data inserted successfully!\n"
     ]
    }
   ],
   "source": [
    "# Insert data\n",
    "players.insert_many(players_data)\n",
    "coaches.insert_many(coaches_data)\n",
    "teams.insert_many(teams_data)\n",
    "relationships.insert_many(relationships_data)\n",
    "\n",
    "print(\"Data inserted successfully!\")"
   ]
  },
  {
   "cell_type": "code",
   "execution_count": null,
   "metadata": {},
   "outputs": [],
   "source": []
  }
 ],
 "metadata": {
  "kernelspec": {
   "display_name": "DSP",
   "language": "python",
   "name": "python3"
  },
  "language_info": {
   "codemirror_mode": {
    "name": "ipython",
    "version": 3
   },
   "file_extension": ".py",
   "mimetype": "text/x-python",
   "name": "python",
   "nbconvert_exporter": "python",
   "pygments_lexer": "ipython3",
   "version": "3.9.18"
  }
 },
 "nbformat": 4,
 "nbformat_minor": 2
}
