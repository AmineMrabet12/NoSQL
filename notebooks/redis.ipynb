{
 "cells": [
  {
   "cell_type": "code",
   "execution_count": 69,
   "metadata": {},
   "outputs": [
    {
     "data": {
      "text/plain": [
       "True"
      ]
     },
     "execution_count": 69,
     "metadata": {},
     "output_type": "execute_result"
    }
   ],
   "source": [
    "from neo4j import GraphDatabase\n",
    "import redis\n",
    "import json\n",
    "from dotenv import load_dotenv\n",
    "import os\n",
    "\n",
    "load_dotenv()"
   ]
  },
  {
   "cell_type": "code",
   "execution_count": 70,
   "metadata": {},
   "outputs": [],
   "source": [
    "NEO4J_PASSWORD = os.getenv('NEO4J_PASSWORD')\n",
    "URI = os.getenv('NEO4J_URI')"
   ]
  },
  {
   "cell_type": "code",
   "execution_count": 71,
   "metadata": {},
   "outputs": [],
   "source": [
    "# Neo4j connection\n",
    "uri = URI\n",
    "username = \"neo4j\"\n",
    "password = NEO4J_PASSWORD\n",
    "AUTH = (username, password)\n",
    "\n",
    "driver = GraphDatabase.driver(uri, auth=(username, password))\n",
    "\n",
    "# Create a session\n",
    "session = driver.session()\n",
    "\n",
    "# Redis connection\n",
    "r = redis.StrictRedis(host='localhost', port=6379, db=0)"
   ]
  },
  {
   "cell_type": "code",
   "execution_count": 72,
   "metadata": {},
   "outputs": [],
   "source": [
    "# Function to get all players from Neo4j\n",
    "def get_all_players_from_neo4j():\n",
    "    with session as s:\n",
    "        result = s.run(\"MATCH (p:PLAYER) RETURN p.name AS name, p.age AS age, p.number AS number\")\n",
    "        players = []\n",
    "        for record in result:\n",
    "            player_data = {\n",
    "                'name': record['name'],\n",
    "                'age': record['age'],\n",
    "                'number': record['number']\n",
    "            }\n",
    "            players.append(player_data)\n",
    "    return players\n"
   ]
  },
  {
   "cell_type": "code",
   "execution_count": null,
   "metadata": {},
   "outputs": [
    {
     "name": "stdout",
     "output_type": "stream",
     "text": [
      "Successfully cached 12 players in Redis.\n"
     ]
    }
   ],
   "source": [
    "def cache_players_in_redis():\n",
    "    players = get_all_players_from_neo4j()\n",
    "    for player in players:\n",
    "\n",
    "        player_id = player['name']\n",
    "\n",
    "        player_data_json = json.dumps(player)\n",
    "\n",
    "        r.set(f\"player:{player_id}\", player_data_json)\n",
    "        \n",
    "        # Optionally, set an expiration time for the cache (e.g., 3600 seconds = 1 hour)\n",
    "        r.expire(f\"player:{player_id}\", 3600)\n",
    "    print(f\"Successfully cached {len(players)} players in Redis.\")\n",
    "\n",
    "# Call the function to cache players\n",
    "cache_players_in_redis()"
   ]
  },
  {
   "cell_type": "code",
   "execution_count": 74,
   "metadata": {},
   "outputs": [],
   "source": [
    "def get_player_from_cache(player_id):\n",
    "    cached_data = r.get(f\"player:{player_id}\")\n",
    "    if cached_data:\n",
    "\n",
    "        return json.loads(cached_data)\n",
    "    else:\n",
    "\n",
    "        return None"
   ]
  },
  {
   "cell_type": "code",
   "execution_count": 75,
   "metadata": {},
   "outputs": [],
   "source": [
    "# Example of checking the cache for a specific player\n",
    "player_id = 'LeBron James'  # Example player ID\n",
    "# Russell Westbrook"
   ]
  },
  {
   "cell_type": "code",
   "execution_count": 76,
   "metadata": {},
   "outputs": [
    {
     "name": "stdout",
     "output_type": "stream",
     "text": [
      "Player data retrieved from cache: {'name': 'LeBron James', 'age': 36, 'number': 6}\n"
     ]
    }
   ],
   "source": [
    "player_data = get_player_from_cache(player_id)\n",
    "if player_data:\n",
    "    print(f\"Player data retrieved from cache: {player_data}\")\n",
    "else:\n",
    "    print(\"Player data not found in cache. Querying Neo4j...\")"
   ]
  }
 ],
 "metadata": {
  "kernelspec": {
   "display_name": "DSP",
   "language": "python",
   "name": "python3"
  },
  "language_info": {
   "codemirror_mode": {
    "name": "ipython",
    "version": 3
   },
   "file_extension": ".py",
   "mimetype": "text/x-python",
   "name": "python",
   "nbconvert_exporter": "python",
   "pygments_lexer": "ipython3",
   "version": "3.9.18"
  }
 },
 "nbformat": 4,
 "nbformat_minor": 2
}
